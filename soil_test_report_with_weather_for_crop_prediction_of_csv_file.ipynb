{
  "metadata": {
    "kernelspec": {
      "language": "python",
      "display_name": "Python 3",
      "name": "python3"
    },
    "language_info": {
      "name": "python",
      "version": "3.10.13",
      "mimetype": "text/x-python",
      "codemirror_mode": {
        "name": "ipython",
        "version": 3
      },
      "pygments_lexer": "ipython3",
      "nbconvert_exporter": "python",
      "file_extension": ".py"
    },
    "kaggle": {
      "accelerator": "none",
      "dataSources": [
        {
          "sourceId": 8299211,
          "sourceType": "datasetVersion",
          "datasetId": 4930260
        }
      ],
      "dockerImageVersionId": 30698,
      "isInternetEnabled": false,
      "language": "python",
      "sourceType": "notebook",
      "isGpuEnabled": false
    },
    "colab": {
      "provenance": [],
      "include_colab_link": true
    }
  },
  "nbformat_minor": 0,
  "nbformat": 4,
  "cells": [
    {
      "cell_type": "markdown",
      "metadata": {
        "id": "view-in-github",
        "colab_type": "text"
      },
      "source": [
        "<a href=\"https://colab.research.google.com/github/SUDHARSSHINI/Drone/blob/main/soil_test_report_with_weather_for_crop_prediction_of_csv_file.ipynb\" target=\"_parent\"><img src=\"https://colab.research.google.com/assets/colab-badge.svg\" alt=\"Open In Colab\"/></a>"
      ]
    },
    {
      "source": [
        "\n",
        "# IMPORTANT: RUN THIS CELL IN ORDER TO IMPORT YOUR KAGGLE DATA SOURCES\n",
        "# TO THE CORRECT LOCATION (/kaggle/input) IN YOUR NOTEBOOK,\n",
        "# THEN FEEL FREE TO DELETE THIS CELL.\n",
        "# NOTE: THIS NOTEBOOK ENVIRONMENT DIFFERS FROM KAGGLE'S PYTHON\n",
        "# ENVIRONMENT SO THERE MAY BE MISSING LIBRARIES USED BY YOUR\n",
        "# NOTEBOOK.\n",
        "\n",
        "import os\n",
        "import sys\n",
        "from tempfile import NamedTemporaryFile\n",
        "from urllib.request import urlopen\n",
        "from urllib.parse import unquote, urlparse\n",
        "from urllib.error import HTTPError\n",
        "from zipfile import ZipFile\n",
        "import tarfile\n",
        "import shutil\n",
        "\n",
        "CHUNK_SIZE = 40960\n",
        "DATA_SOURCE_MAPPING = 'soil-test-report-with-weather-for-crop-prediction:https%3A%2F%2Fstorage.googleapis.com%2Fkaggle-data-sets%2F4930260%2F8299211%2Fbundle%2Farchive.zip%3FX-Goog-Algorithm%3DGOOG4-RSA-SHA256%26X-Goog-Credential%3Dgcp-kaggle-com%2540kaggle-161607.iam.gserviceaccount.com%252F20240913%252Fauto%252Fstorage%252Fgoog4_request%26X-Goog-Date%3D20240913T135728Z%26X-Goog-Expires%3D259200%26X-Goog-SignedHeaders%3Dhost%26X-Goog-Signature%3D271aeaa15d534ce3a9d4a022b457cb27adb1dc00e7beb85aef10a8c2072e6b2ef2233c55636269f58de95cc6e60451df247ed1a4b94343fabf42474fb33e27eba3a466b98dac5bd835837274f0aaf08e686e05c2ad62df7a38bd4686f1869d8062efa859bdf81a75f8ef4d1f9fb6cac68dbe66a3202aca22084252173f65fd362cd5930d7efe73d3c4e54b9762bbef3c961a62a40656d08f7376174cdadc3c34a14c4e4ca3048ffb7f53f2c8cf52de405bd68199c824e86c7071aba9f6379935ea54ee1c79db7a138c9726f629aec98876d3428fc1fffac8bdf5498f8cfe3240c019a215e5411028b51b549f2cc883c6cba8a078d49568906e4cd379bd32b229'\n",
        "\n",
        "KAGGLE_INPUT_PATH='/kaggle/input'\n",
        "KAGGLE_WORKING_PATH='/kaggle/working'\n",
        "KAGGLE_SYMLINK='kaggle'\n",
        "\n",
        "!umount /kaggle/input/ 2> /dev/null\n",
        "shutil.rmtree('/kaggle/input', ignore_errors=True)\n",
        "os.makedirs(KAGGLE_INPUT_PATH, 0o777, exist_ok=True)\n",
        "os.makedirs(KAGGLE_WORKING_PATH, 0o777, exist_ok=True)\n",
        "\n",
        "try:\n",
        "  os.symlink(KAGGLE_INPUT_PATH, os.path.join(\"..\", 'input'), target_is_directory=True)\n",
        "except FileExistsError:\n",
        "  pass\n",
        "try:\n",
        "  os.symlink(KAGGLE_WORKING_PATH, os.path.join(\"..\", 'working'), target_is_directory=True)\n",
        "except FileExistsError:\n",
        "  pass\n",
        "\n",
        "for data_source_mapping in DATA_SOURCE_MAPPING.split(','):\n",
        "    directory, download_url_encoded = data_source_mapping.split(':')\n",
        "    download_url = unquote(download_url_encoded)\n",
        "    filename = urlparse(download_url).path\n",
        "    destination_path = os.path.join(KAGGLE_INPUT_PATH, directory)\n",
        "    try:\n",
        "        with urlopen(download_url) as fileres, NamedTemporaryFile() as tfile:\n",
        "            total_length = fileres.headers['content-length']\n",
        "            print(f'Downloading {directory}, {total_length} bytes compressed')\n",
        "            dl = 0\n",
        "            data = fileres.read(CHUNK_SIZE)\n",
        "            while len(data) > 0:\n",
        "                dl += len(data)\n",
        "                tfile.write(data)\n",
        "                done = int(50 * dl / int(total_length))\n",
        "                sys.stdout.write(f\"\\r[{'=' * done}{' ' * (50-done)}] {dl} bytes downloaded\")\n",
        "                sys.stdout.flush()\n",
        "                data = fileres.read(CHUNK_SIZE)\n",
        "            if filename.endswith('.zip'):\n",
        "              with ZipFile(tfile) as zfile:\n",
        "                zfile.extractall(destination_path)\n",
        "            else:\n",
        "              with tarfile.open(tfile.name) as tarfile:\n",
        "                tarfile.extractall(destination_path)\n",
        "            print(f'\\nDownloaded and uncompressed: {directory}')\n",
        "    except HTTPError as e:\n",
        "        print(f'Failed to load (likely expired) {download_url} to path {destination_path}')\n",
        "        continue\n",
        "    except OSError as e:\n",
        "        print(f'Failed to load {download_url} to path {destination_path}')\n",
        "        continue\n",
        "\n",
        "print('Data source import complete.')\n"
      ],
      "metadata": {
        "id": "CwunGkwC_j6o"
      },
      "cell_type": "code",
      "outputs": [],
      "execution_count": null
    },
    {
      "cell_type": "markdown",
      "source": [
        "Let's start by importing the libraries. We will begin with importing the basic libraries"
      ],
      "metadata": {
        "_uuid": "8f2839f25d086af736a60e9eeb907d3b93b6e0e5",
        "_cell_guid": "b1076dfc-b9ad-4769-8c92-a6c4dae69d19",
        "execution": {
          "iopub.status.busy": "2024-05-03T15:41:31.451425Z",
          "iopub.execute_input": "2024-05-03T15:41:31.451827Z",
          "iopub.status.idle": "2024-05-03T15:41:31.906403Z",
          "shell.execute_reply.started": "2024-05-03T15:41:31.451797Z",
          "shell.execute_reply": "2024-05-03T15:41:31.905216Z"
        },
        "id": "ug_UVKKG_j6r"
      }
    },
    {
      "cell_type": "code",
      "source": [
        "import pandas as pd\n",
        "import numpy as np\n",
        "import matplotlib.pyplot as plt"
      ],
      "metadata": {
        "id": "VWTg6I1R_j6t"
      },
      "execution_count": null,
      "outputs": []
    },
    {
      "cell_type": "markdown",
      "source": [
        "Secondly we will import DecisionTreeClassifier, grid search and metrics of the model"
      ],
      "metadata": {
        "id": "i-s3EEOh_j6t"
      }
    },
    {
      "cell_type": "code",
      "source": [
        "from sklearn.tree import DecisionTreeClassifier\n",
        "from sklearn.model_selection import GridSearchCV\n",
        "from sklearn.metrics import accuracy_score, f1_score, precision_score, recall_score\n",
        "from sklearn.metrics import RocCurveDisplay, confusion_matrix"
      ],
      "metadata": {
        "execution": {
          "iopub.status.busy": "2024-05-03T16:18:27.731838Z",
          "iopub.execute_input": "2024-05-03T16:18:27.733098Z",
          "iopub.status.idle": "2024-05-03T16:18:27.739013Z",
          "shell.execute_reply.started": "2024-05-03T16:18:27.733039Z",
          "shell.execute_reply": "2024-05-03T16:18:27.738044Z"
        },
        "trusted": true,
        "id": "JepaClWl_j6v"
      },
      "execution_count": null,
      "outputs": []
    },
    {
      "cell_type": "markdown",
      "source": [
        "And finaly we will import train test split"
      ],
      "metadata": {
        "id": "LUYGQaI0_j6v"
      }
    },
    {
      "cell_type": "code",
      "source": [
        "from sklearn.model_selection import train_test_split"
      ],
      "metadata": {
        "id": "lcHSay9c_j6w"
      },
      "execution_count": null,
      "outputs": []
    },
    {
      "cell_type": "markdown",
      "source": [
        "# Preprocessing of the data"
      ],
      "metadata": {
        "id": "mSldIysW_j6w"
      }
    },
    {
      "cell_type": "markdown",
      "source": [
        "We will begin with reading the data"
      ],
      "metadata": {
        "id": "cXRfroPE_j6w"
      }
    },
    {
      "cell_type": "code",
      "source": [
        "data  = pd.read_csv('/kaggle/input/soil-test-report-with-weather-for-crop-prediction/Crop_recommendation.csv')"
      ],
      "metadata": {
        "execution": {
          "iopub.status.busy": "2024-05-03T16:28:22.387699Z",
          "iopub.execute_input": "2024-05-03T16:28:22.38809Z",
          "iopub.status.idle": "2024-05-03T16:28:22.411331Z",
          "shell.execute_reply.started": "2024-05-03T16:28:22.38806Z",
          "shell.execute_reply": "2024-05-03T16:28:22.410159Z"
        },
        "trusted": true,
        "id": "jRLnSK98_j6x"
      },
      "execution_count": null,
      "outputs": []
    },
    {
      "cell_type": "markdown",
      "source": [
        "We can see that the dataset has 22 labels"
      ],
      "metadata": {
        "id": "Cg-dU03Q_j6x"
      }
    },
    {
      "cell_type": "code",
      "source": [
        "labels = data['label'].unique()\n",
        "print(labels)"
      ],
      "metadata": {
        "execution": {
          "iopub.status.busy": "2024-05-03T16:28:25.303369Z",
          "iopub.execute_input": "2024-05-03T16:28:25.303786Z",
          "iopub.status.idle": "2024-05-03T16:28:25.31272Z",
          "shell.execute_reply.started": "2024-05-03T16:28:25.303754Z",
          "shell.execute_reply": "2024-05-03T16:28:25.311589Z"
        },
        "trusted": true,
        "id": "042vJE1f_j6x"
      },
      "execution_count": null,
      "outputs": []
    },
    {
      "cell_type": "markdown",
      "source": [
        "Then we will transform the labels as numbers by replacing the values as index of the arraya"
      ],
      "metadata": {
        "id": "KojOCw2x_j6y"
      }
    },
    {
      "cell_type": "code",
      "source": [
        "data['label'] = data['label'].apply(lambda x: np.where(labels == x)[0][0])"
      ],
      "metadata": {
        "execution": {
          "iopub.status.busy": "2024-05-03T16:28:28.542371Z",
          "iopub.execute_input": "2024-05-03T16:28:28.54278Z",
          "iopub.status.idle": "2024-05-03T16:28:28.575749Z",
          "shell.execute_reply.started": "2024-05-03T16:28:28.542748Z",
          "shell.execute_reply": "2024-05-03T16:28:28.574888Z"
        },
        "trusted": true,
        "id": "s_qpCcu9_j6y"
      },
      "execution_count": null,
      "outputs": []
    },
    {
      "cell_type": "markdown",
      "source": [
        "After that we will split the data for training and testing"
      ],
      "metadata": {
        "id": "IWc4FhXA_j6y"
      }
    },
    {
      "cell_type": "code",
      "source": [
        "x_train, x_test, y_train, y_test = train_test_split(data.drop(columns=['label']), data['label'], test_size=0.2, random_state=42)"
      ],
      "metadata": {
        "execution": {
          "iopub.status.busy": "2024-05-03T16:28:33.058128Z",
          "iopub.execute_input": "2024-05-03T16:28:33.058544Z",
          "iopub.status.idle": "2024-05-03T16:28:33.06829Z",
          "shell.execute_reply.started": "2024-05-03T16:28:33.058514Z",
          "shell.execute_reply": "2024-05-03T16:28:33.067177Z"
        },
        "trusted": true,
        "id": "jt3hSXme_j6y"
      },
      "execution_count": null,
      "outputs": []
    },
    {
      "cell_type": "markdown",
      "source": [
        "Finally we will make GridSearchCV to choose the best parameters for the model"
      ],
      "metadata": {
        "id": "zD2VHZF__j6y"
      }
    },
    {
      "cell_type": "code",
      "source": [
        "parameters= {\n",
        "    'max_depth': [5,10,11,12,13,14,15,None],\n",
        "    'min_samples_split': [10,20,30,40,50,60,70,80,90,100],\n",
        "}\n",
        "cv = GridSearchCV(DecisionTreeClassifier(), parameters,cv=3,n_jobs=7)\n",
        "cv.fit(x_train, y_train)\n",
        "\n",
        "print(cv.best_params_)\n",
        "\n",
        "\n",
        "y_pred = cv.predict(x_test)\n",
        "\n",
        "accuracy = accuracy_score(y_test, y_pred)\n",
        "f1 = f1_score(y_test, y_pred, average='weighted')\n",
        "precision = precision_score(y_test, y_pred, average='weighted')\n",
        "recall = recall_score(y_test, y_pred, average='weighted')\n",
        "\n",
        "print('Accuracy: ', accuracy)\n",
        "print('F1: ', f1)\n",
        "print('Precision: ', precision)\n",
        "print('Recall: ', recall)"
      ],
      "metadata": {
        "execution": {
          "iopub.status.busy": "2024-05-03T15:45:33.481804Z",
          "iopub.execute_input": "2024-05-03T15:45:33.482858Z",
          "iopub.status.idle": "2024-05-03T15:45:38.266524Z",
          "shell.execute_reply.started": "2024-05-03T15:45:33.482815Z",
          "shell.execute_reply": "2024-05-03T15:45:38.265192Z"
        },
        "trusted": true,
        "id": "BZP7W66__j6y"
      },
      "execution_count": null,
      "outputs": []
    },
    {
      "cell_type": "markdown",
      "source": [
        "The results of the model show a high accuracy and an F1 score, which means that it is effectively classified with a high degree of reliability and a balance between accuracy and estimation."
      ],
      "metadata": {
        "id": "TwRkda75_j6z"
      }
    }
  ]
}